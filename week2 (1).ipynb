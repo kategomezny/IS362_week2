{
 "cells": [
  {
   "cell_type": "markdown",
   "metadata": {},
   "source": [
    "# Regular Expressions"
   ]
  },
  {
   "cell_type": "markdown",
   "metadata": {},
   "source": [
    "*Regulat Expressions are secuences of special characteres.    Those are useful when extracting or matching other strings or sets of strings. In other words, it helps to extract information from text (code, files, log, spreadsheets and documents).    In order to do this, it is necessary to make use of special syntax in a pattern.*\n",
    "\n",
    "\n",
    "*Regular Expression can be found within the **re** module*\n"
   ]
  },
  {
   "cell_type": "markdown",
   "metadata": {},
   "source": [
    "**The match function**\n",
    "\n",
    "*The main objective of this function is to match  RE pattern to string with optional flags.*\n",
    "\n",
    "\n",
    "*This is the syntax of the match function:*  **sre.match(pattern, string, flags=0)**\n",
    "\n",
    "\n",
    "*The next table contains some Expression patterns:*\n",
    "\n",
    "\n",
    "**Regular Expression Patterns**\n",
    "\n",
    "|Sr.No.|Pattern & Description|\n",
    "|:-:|:---|\n",
    "|1     |**^** *Matches beginning of line.*|\n",
    "|2     |**$** *Matches end of line.*|\n",
    "|3     |**.** *Matches any single character except newline.* \n",
    "|4     |**[...]** *Matches any single character in brackets.*|\n",
    "|5     |**[^...]** *Matches any single character not in brackets*|\n",
    "|6     |**re*** *Matches 0 or more occurrences of preceding expression.*|\n",
    "|7     |**re+** *Matches 1 or more occurrence of preceding expression.*|\n",
    "|8     |**re?** *Matches 0 or 1 occurrence of preceding expression.*\n",
    "|9     |**re{ n}** *Matches exactly n number of occurrences of preceding expression.*|\n",
    "|10    |**re{ n,}** *Matches n or more occurrences of preceding expression.*|\n",
    "|11    |**re{ n, m}** *Matches at least n and at most m occurrences of preceding expression*|\n",
    "|12    |**(re)** *Groups regular expressions and remembers matched text.*|\n",
    "|13    |**(?imx)** *Temporarily toggles on i, m, or x options within a regular expression. If in parentheses, only that area is affected.*|\n",
    "|14    |**(?-imx)** *Temporarily toggles off i, m, or x options within a regular expression. If in parentheses, only that area is affected.*|\n",
    "|15    |**(?: re)** *Groups regular expressions without remembering matched text.*|\n",
    "\n",
    "Table taken from https://www.tutorialspoint.com/python/python_reg_expressions.htm \n"
   ]
  },
  {
   "cell_type": "markdown",
   "metadata": {},
   "source": [
    "*In the next example, we will use re.match() function to search pattern within the string1.* "
   ]
  },
  {
   "cell_type": "code",
   "execution_count": 4,
   "metadata": {},
   "outputs": [
    {
     "name": "stdout",
     "output_type": "stream",
     "text": [
      "Match.\n"
     ]
    }
   ],
   "source": [
    "import re\n",
    "\n",
    "pattern = '^k......e$'\n",
    "string1 = 'katerine'\n",
    "result = re.match(pattern, string1)\n",
    "if result:\n",
    "  print(\"Match.\")\n",
    "else:\n",
    "  print(\"No match.\")"
   ]
  },
  {
   "cell_type": "markdown",
   "metadata": {},
   "source": [
    "*When an error ocurred, the **re** module raises and exception re.error.*"
   ]
  },
  {
   "cell_type": "markdown",
   "metadata": {},
   "source": [
    "### References ###\n",
    "\n",
    "https://www.tutorialspoint.com/python/python_reg_expressions.htm \n",
    "\n",
    "\n"
   ]
  },
  {
   "cell_type": "code",
   "execution_count": null,
   "metadata": {},
   "outputs": [],
   "source": []
  }
 ],
 "metadata": {
  "kernelspec": {
   "display_name": "Python 3",
   "language": "python",
   "name": "python3"
  },
  "language_info": {
   "codemirror_mode": {
    "name": "ipython",
    "version": 3
   },
   "file_extension": ".py",
   "mimetype": "text/x-python",
   "name": "python",
   "nbconvert_exporter": "python",
   "pygments_lexer": "ipython3",
   "version": "3.7.3"
  }
 },
 "nbformat": 4,
 "nbformat_minor": 2
}
